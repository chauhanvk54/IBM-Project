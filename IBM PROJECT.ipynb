{
 "cells": [
  {
   "cell_type": "markdown",
   "id": "5604bbf6",
   "metadata": {},
   "source": [
    "# My Jupyter Notebook on IBM Watson Studio"
   ]
  },
  {
   "cell_type": "markdown",
   "id": "7bfb0a99",
   "metadata": {},
   "source": [
    "**VIVEK KUMAR CHAUHAN**\n",
    "Data Scientist"
   ]
  },
  {
   "cell_type": "markdown",
   "id": "e541a851",
   "metadata": {},
   "source": [
    "*I Want to Become Data Scientist Because i want to get full insight of data and how to show complex data in simple way* "
   ]
  },
  {
   "cell_type": "markdown",
   "id": "87d37ace",
   "metadata": {},
   "source": [
    "### Calculation"
   ]
  },
  {
   "cell_type": "code",
   "execution_count": 4,
   "id": "231e7885",
   "metadata": {},
   "outputs": [
    {
     "name": "stdout",
     "output_type": "stream",
     "text": [
      "30\n"
     ]
    }
   ],
   "source": [
    "a=10\n",
    "b=20\n",
    "c=a+b\n",
    "print(c)"
   ]
  },
  {
   "cell_type": "markdown",
   "id": "271288bf",
   "metadata": {},
   "source": [
    "> I want to be a data scientist\n",
    "\n",
    "1. Elephant\n",
    "2. Dog\n",
    "3. Cat\n",
    "\n",
    "* One\n",
    "* Two\n",
    "* Three"
   ]
  },
  {
   "cell_type": "code",
   "execution_count": null,
   "id": "2a1eab66",
   "metadata": {},
   "outputs": [],
   "source": []
  }
 ],
 "metadata": {
  "kernelspec": {
   "display_name": "Python 3",
   "language": "python",
   "name": "python3"
  },
  "language_info": {
   "codemirror_mode": {
    "name": "ipython",
    "version": 3
   },
   "file_extension": ".py",
   "mimetype": "text/x-python",
   "name": "python",
   "nbconvert_exporter": "python",
   "pygments_lexer": "ipython3",
   "version": "3.8.8"
  }
 },
 "nbformat": 4,
 "nbformat_minor": 5
}
